{
 "cells": [
  {
   "cell_type": "code",
   "execution_count": 1,
   "id": "429634ba-28ec-48fb-ba7d-6300e44d17c2",
   "metadata": {},
   "outputs": [
    {
     "name": "stdout",
     "output_type": "stream",
     "text": [
      "0     4\n",
      "1     8\n",
      "2    15\n",
      "3    16\n",
      "4    23\n",
      "5    42\n",
      "dtype: int64\n"
     ]
    }
   ],
   "source": [
    "import pandas as pd\n",
    "l1=[4,8,15,16,23,42]\n",
    "data=pd.Series(l1)\n",
    "print(data)"
   ]
  },
  {
   "cell_type": "code",
   "execution_count": 2,
   "id": "cd500de2-5fd0-4ef6-b6f1-14bfdb395389",
   "metadata": {},
   "outputs": [
    {
     "name": "stdout",
     "output_type": "stream",
     "text": [
      "0     Akshat\n",
      "1         21\n",
      "2      joshi\n",
      "3        121\n",
      "4        234\n",
      "5        212\n",
      "6        432\n",
      "7       1432\n",
      "8          M\n",
      "9    1111112\n",
      "dtype: object\n"
     ]
    }
   ],
   "source": [
    "import pandas as pd\n",
    "l2=[\"Akshat\",21,\"joshi\",121,234,212,432,1432,'M',1111112]\n",
    "data1=pd.Series(l2)\n",
    "print(data1)"
   ]
  },
  {
   "cell_type": "code",
   "execution_count": 5,
   "id": "dbd143b0-0b95-4997-b7c6-4fb9ca7415be",
   "metadata": {},
   "outputs": [
    {
     "name": "stdout",
     "output_type": "stream",
     "text": [
      "     Name  Age  Gender\n",
      "0   Alice   25  Female\n",
      "1     Bob   30    Male\n",
      "2  Claire   27  Female\n"
     ]
    }
   ],
   "source": [
    "import pandas as pd\n",
    "data2={'Name': ['Alice', 'Bob', 'Claire'],\n",
    "\n",
    "        'Age': [25, 30, 27],\n",
    "\n",
    "        'Gender': ['Female', 'Male', 'Female']}\n",
    "\n",
    "df1 = pd.DataFrame(data2)\n",
    "print(df1)"
   ]
  },
  {
   "cell_type": "markdown",
   "id": "c45daa0c-ed5e-4762-b8db-74820161ae5c",
   "metadata": {},
   "source": [
    "Question:-What is ‘DataFrame’ in pandas and how is it different from pandas.series? Explain with an example.\n",
    "Answer:-dataframe is a collection of series that can be used to analyse the data.\n",
    "Series can only contain single list with index, whereas dataframe can be made of more than one series \n",
    "Example of data frame\n",
    "#Creating a DataFrame \n",
    "data = pd.DataFrame({\n",
    "    \"Class 1\": pd.Series([22, 33, 38], index=[\"math avg\", \"science avg\",  \"english avg\"]),\n",
    "    \"Class 2\": pd.Series([45, 28, 36], index=[\"math avg\", \"science avg\",  \"english avg\"]),\n",
    "    \"Class 3\": pd.Series([32, 41, 47], index=[\"math avg\", \"science avg\",  \"english avg\"])\n",
    "})\n",
    " \n",
    "data \n",
    "Example of Series\n",
    "#Creating a Series\n",
    "data = {'Mon': 22, 'Tues': 23, 'Wed': 23, 'Thurs': 24, 'Fri': 23, 'Sat': 22, 'Sun': 21}\n",
    "series = pd.Series(data=data, name='series_from_dict')\n",
    "print(series)"
   ]
  },
  {
   "cell_type": "markdown",
   "id": "48308344-0aa0-4d48-baf6-c628685db41d",
   "metadata": {},
   "source": [
    "Question:-What are some common functions you can use to manipulate data in a Pandas DataFrame? Can\n",
    "you give an example of when you might use one of these functions?\n",
    "Answer:-\n",
    "import the library which is used in data manipulation\n",
    "import pandas as pd\n",
    "We can read the dataframe by using head() function also which is having an argument (n) i.e. number of rows to be displayed.\n",
    "df.head(10)\n",
    "Counting the rows and columns in DataFrame using shape(). It returns the no. of rows and columns enclosed in a tuple.\n",
    "df.shape\n",
    "Summary of Statistics of DataFrame using describe() method.\n",
    "df.describe()\n",
    "Dropping the missing values in DataFrame, it can be done using the dropna() method, it removes all the NaN values in the dataframe.\n",
    "df.dropna()\n",
    "Merging DataFrames using merge(), arguments passed are the dataframes to be merged along with the column name.\n",
    "df1 = pd.read_csv(\"country_code.csv\")\n",
    "merged_col = pd.merge(df, df1, on='Name')\n",
    "merged_col"
   ]
  },
  {
   "cell_type": "markdown",
   "id": "6a02c78d-0fdd-4c51-8bd6-9cf806a6d43d",
   "metadata": {},
   "source": [
    "Question:-Which of the following is mutable in nature Series, DataFrame, Panel?\n",
    "ANswer:-Dataframe and Panel is mutable"
   ]
  },
  {
   "cell_type": "code",
   "execution_count": null,
   "id": "3d125925-7c44-4334-94ae-d39f5665d208",
   "metadata": {},
   "outputs": [],
   "source": []
  }
 ],
 "metadata": {
  "kernelspec": {
   "display_name": "Python 3 (ipykernel)",
   "language": "python",
   "name": "python3"
  },
  "language_info": {
   "codemirror_mode": {
    "name": "ipython",
    "version": 3
   },
   "file_extension": ".py",
   "mimetype": "text/x-python",
   "name": "python",
   "nbconvert_exporter": "python",
   "pygments_lexer": "ipython3",
   "version": "3.10.6"
  }
 },
 "nbformat": 4,
 "nbformat_minor": 5
}
